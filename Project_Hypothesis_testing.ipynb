{
 "cells": [
  {
   "cell_type": "markdown",
   "metadata": {},
   "source": [
    "### HYPOTHESIS TESTING"
   ]
  },
  {
   "cell_type": "code",
   "execution_count": 2,
   "metadata": {},
   "outputs": [],
   "source": [
    "##### Hypothesis Testing is a statistical method used to make inferences or decisions about a population based on sample data. \n",
    "##### It starts with a null hypothesis (H0), which represents a default stance or no effect, and an alternative hypothesis (H1 or Ha), which represents what we aim to prove or expect to find. \n",
    "##### The process involves using sample data to determine whether to reject the null hypothesis in favor of the alternative hypothesis, based on the likelihood of observing the sample data under the null hypothesis. "
   ]
  },
  {
   "cell_type": "code",
   "execution_count": 1,
   "metadata": {},
   "outputs": [],
   "source": [
    "# Hypothesis Testing: Process We Can Follow\n",
    "\n",
    "     # So, Hypothesis Testing is a fundamental process in data science for making data-driven decisions and inferences about populations based on sample data. Below is the process we can follow for the task of Hypothesis Testing:\n",
    "     # Gather the necessary data required for the hypothesis test.\n",
    "     # Define Null (H0) and Alternative Hypothesis (H1 or Ha).\n",
    "     # Choose the Significance Level (α), which is the probability of rejecting the null hypothesis when it is true.\n",
    "     # Select the appropriate statistical tests. Examples include t-tests for comparing means, chi-square tests for categorical data, and ANOVA for comparing means across more than two groups.\n",
    "     # Perform the chosen statistical test on your data.\n",
    "     # Determine the p-value and interpret the results of your statistical tests.\n"
   ]
  },
  {
   "cell_type": "code",
   "execution_count": 3,
   "metadata": {},
   "outputs": [
    {
     "data": {
      "text/html": [
       "<div>\n",
       "<style scoped>\n",
       "    .dataframe tbody tr th:only-of-type {\n",
       "        vertical-align: middle;\n",
       "    }\n",
       "\n",
       "    .dataframe tbody tr th {\n",
       "        vertical-align: top;\n",
       "    }\n",
       "\n",
       "    .dataframe thead th {\n",
       "        text-align: right;\n",
       "    }\n",
       "</style>\n",
       "<table border=\"1\" class=\"dataframe\">\n",
       "  <thead>\n",
       "    <tr style=\"text-align: right;\">\n",
       "      <th></th>\n",
       "      <th>Theme</th>\n",
       "      <th>Click Through Rate</th>\n",
       "      <th>Conversion Rate</th>\n",
       "      <th>Bounce Rate</th>\n",
       "      <th>Scroll_Depth</th>\n",
       "      <th>Age</th>\n",
       "      <th>Location</th>\n",
       "      <th>Session_Duration</th>\n",
       "      <th>Purchases</th>\n",
       "      <th>Added_to_Cart</th>\n",
       "    </tr>\n",
       "  </thead>\n",
       "  <tbody>\n",
       "    <tr>\n",
       "      <th>0</th>\n",
       "      <td>Light Theme</td>\n",
       "      <td>0.054920</td>\n",
       "      <td>0.282367</td>\n",
       "      <td>0.405085</td>\n",
       "      <td>72.489458</td>\n",
       "      <td>25</td>\n",
       "      <td>Chennai</td>\n",
       "      <td>1535</td>\n",
       "      <td>No</td>\n",
       "      <td>Yes</td>\n",
       "    </tr>\n",
       "    <tr>\n",
       "      <th>1</th>\n",
       "      <td>Light Theme</td>\n",
       "      <td>0.113932</td>\n",
       "      <td>0.032973</td>\n",
       "      <td>0.732759</td>\n",
       "      <td>61.858568</td>\n",
       "      <td>19</td>\n",
       "      <td>Pune</td>\n",
       "      <td>303</td>\n",
       "      <td>No</td>\n",
       "      <td>Yes</td>\n",
       "    </tr>\n",
       "    <tr>\n",
       "      <th>2</th>\n",
       "      <td>Dark Theme</td>\n",
       "      <td>0.323352</td>\n",
       "      <td>0.178763</td>\n",
       "      <td>0.296543</td>\n",
       "      <td>45.737376</td>\n",
       "      <td>47</td>\n",
       "      <td>Chennai</td>\n",
       "      <td>563</td>\n",
       "      <td>Yes</td>\n",
       "      <td>Yes</td>\n",
       "    </tr>\n",
       "    <tr>\n",
       "      <th>3</th>\n",
       "      <td>Light Theme</td>\n",
       "      <td>0.485836</td>\n",
       "      <td>0.325225</td>\n",
       "      <td>0.245001</td>\n",
       "      <td>76.305298</td>\n",
       "      <td>58</td>\n",
       "      <td>Pune</td>\n",
       "      <td>385</td>\n",
       "      <td>Yes</td>\n",
       "      <td>No</td>\n",
       "    </tr>\n",
       "    <tr>\n",
       "      <th>4</th>\n",
       "      <td>Light Theme</td>\n",
       "      <td>0.034783</td>\n",
       "      <td>0.196766</td>\n",
       "      <td>0.765100</td>\n",
       "      <td>48.927407</td>\n",
       "      <td>25</td>\n",
       "      <td>New Delhi</td>\n",
       "      <td>1437</td>\n",
       "      <td>No</td>\n",
       "      <td>No</td>\n",
       "    </tr>\n",
       "  </tbody>\n",
       "</table>\n",
       "</div>"
      ],
      "text/plain": [
       "         Theme  Click Through Rate  Conversion Rate  Bounce Rate  \\\n",
       "0  Light Theme            0.054920         0.282367     0.405085   \n",
       "1  Light Theme            0.113932         0.032973     0.732759   \n",
       "2   Dark Theme            0.323352         0.178763     0.296543   \n",
       "3  Light Theme            0.485836         0.325225     0.245001   \n",
       "4  Light Theme            0.034783         0.196766     0.765100   \n",
       "\n",
       "   Scroll_Depth  Age   Location  Session_Duration Purchases Added_to_Cart  \n",
       "0     72.489458   25    Chennai              1535        No           Yes  \n",
       "1     61.858568   19       Pune               303        No           Yes  \n",
       "2     45.737376   47    Chennai               563       Yes           Yes  \n",
       "3     76.305298   58       Pune               385       Yes            No  \n",
       "4     48.927407   25  New Delhi              1437        No            No  "
      ]
     },
     "execution_count": 3,
     "metadata": {},
     "output_type": "execute_result"
    }
   ],
   "source": [
    "# Import Data with neccessary library. \n",
    "# Get an overview by have an first 5 line items. \n",
    "\n",
    "import pandas as pd\n",
    "\n",
    "data = pd.read_csv(\"D:/Users/Admin/website_ab_test.csv\")\n",
    "data.head()"
   ]
  },
  {
   "cell_type": "code",
   "execution_count": 9,
   "metadata": {},
   "outputs": [
    {
     "data": {
      "text/plain": [
       "Index(['Theme', 'Click Through Rate', 'Conversion Rate', 'Bounce Rate',\n",
       "       'Scroll_Depth', 'Age', 'Location', 'Session_Duration', 'Purchases',\n",
       "       'Added_to_Cart'],\n",
       "      dtype='object')"
      ]
     },
     "execution_count": 9,
     "metadata": {},
     "output_type": "execute_result"
    }
   ],
   "source": [
    "data.columns"
   ]
  },
  {
   "cell_type": "code",
   "execution_count": 4,
   "metadata": {},
   "outputs": [
    {
     "data": {
      "text/plain": [
       "(1000, 10)"
      ]
     },
     "execution_count": 4,
     "metadata": {},
     "output_type": "execute_result"
    }
   ],
   "source": [
    "data.shape\n",
    "\n",
    "# So, our dataset has 1000 rows and 10 columns. "
   ]
  },
  {
   "cell_type": "code",
   "execution_count": 6,
   "metadata": {},
   "outputs": [
    {
     "data": {
      "text/html": [
       "<div>\n",
       "<style scoped>\n",
       "    .dataframe tbody tr th:only-of-type {\n",
       "        vertical-align: middle;\n",
       "    }\n",
       "\n",
       "    .dataframe tbody tr th {\n",
       "        vertical-align: top;\n",
       "    }\n",
       "\n",
       "    .dataframe thead th {\n",
       "        text-align: right;\n",
       "    }\n",
       "</style>\n",
       "<table border=\"1\" class=\"dataframe\">\n",
       "  <thead>\n",
       "    <tr style=\"text-align: right;\">\n",
       "      <th></th>\n",
       "      <th>Click Through Rate</th>\n",
       "      <th>Conversion Rate</th>\n",
       "      <th>Bounce Rate</th>\n",
       "      <th>Scroll_Depth</th>\n",
       "      <th>Age</th>\n",
       "      <th>Session_Duration</th>\n",
       "    </tr>\n",
       "  </thead>\n",
       "  <tbody>\n",
       "    <tr>\n",
       "      <th>count</th>\n",
       "      <td>1000.000000</td>\n",
       "      <td>1000.000000</td>\n",
       "      <td>1000.000000</td>\n",
       "      <td>1000.000000</td>\n",
       "      <td>1000.000000</td>\n",
       "      <td>1000.000000</td>\n",
       "    </tr>\n",
       "    <tr>\n",
       "      <th>mean</th>\n",
       "      <td>0.256048</td>\n",
       "      <td>0.253312</td>\n",
       "      <td>0.505758</td>\n",
       "      <td>50.319494</td>\n",
       "      <td>41.528000</td>\n",
       "      <td>924.999000</td>\n",
       "    </tr>\n",
       "    <tr>\n",
       "      <th>std</th>\n",
       "      <td>0.139265</td>\n",
       "      <td>0.139092</td>\n",
       "      <td>0.172195</td>\n",
       "      <td>16.895269</td>\n",
       "      <td>14.114334</td>\n",
       "      <td>508.231723</td>\n",
       "    </tr>\n",
       "    <tr>\n",
       "      <th>min</th>\n",
       "      <td>0.010767</td>\n",
       "      <td>0.010881</td>\n",
       "      <td>0.200720</td>\n",
       "      <td>20.011738</td>\n",
       "      <td>18.000000</td>\n",
       "      <td>38.000000</td>\n",
       "    </tr>\n",
       "    <tr>\n",
       "      <th>25%</th>\n",
       "      <td>0.140794</td>\n",
       "      <td>0.131564</td>\n",
       "      <td>0.353609</td>\n",
       "      <td>35.655167</td>\n",
       "      <td>29.000000</td>\n",
       "      <td>466.500000</td>\n",
       "    </tr>\n",
       "    <tr>\n",
       "      <th>50%</th>\n",
       "      <td>0.253715</td>\n",
       "      <td>0.252823</td>\n",
       "      <td>0.514049</td>\n",
       "      <td>51.130712</td>\n",
       "      <td>42.000000</td>\n",
       "      <td>931.000000</td>\n",
       "    </tr>\n",
       "    <tr>\n",
       "      <th>75%</th>\n",
       "      <td>0.370674</td>\n",
       "      <td>0.373040</td>\n",
       "      <td>0.648557</td>\n",
       "      <td>64.666258</td>\n",
       "      <td>54.000000</td>\n",
       "      <td>1375.250000</td>\n",
       "    </tr>\n",
       "    <tr>\n",
       "      <th>max</th>\n",
       "      <td>0.499989</td>\n",
       "      <td>0.498916</td>\n",
       "      <td>0.799658</td>\n",
       "      <td>79.997108</td>\n",
       "      <td>65.000000</td>\n",
       "      <td>1797.000000</td>\n",
       "    </tr>\n",
       "  </tbody>\n",
       "</table>\n",
       "</div>"
      ],
      "text/plain": [
       "       Click Through Rate  Conversion Rate  Bounce Rate  Scroll_Depth  \\\n",
       "count         1000.000000      1000.000000  1000.000000   1000.000000   \n",
       "mean             0.256048         0.253312     0.505758     50.319494   \n",
       "std              0.139265         0.139092     0.172195     16.895269   \n",
       "min              0.010767         0.010881     0.200720     20.011738   \n",
       "25%              0.140794         0.131564     0.353609     35.655167   \n",
       "50%              0.253715         0.252823     0.514049     51.130712   \n",
       "75%              0.370674         0.373040     0.648557     64.666258   \n",
       "max              0.499989         0.498916     0.799658     79.997108   \n",
       "\n",
       "               Age  Session_Duration  \n",
       "count  1000.000000       1000.000000  \n",
       "mean     41.528000        924.999000  \n",
       "std      14.114334        508.231723  \n",
       "min      18.000000         38.000000  \n",
       "25%      29.000000        466.500000  \n",
       "50%      42.000000        931.000000  \n",
       "75%      54.000000       1375.250000  \n",
       "max      65.000000       1797.000000  "
      ]
     },
     "execution_count": 6,
     "metadata": {},
     "output_type": "execute_result"
    }
   ],
   "source": [
    "data.describe()"
   ]
  },
  {
   "cell_type": "code",
   "execution_count": 8,
   "metadata": {},
   "outputs": [
    {
     "name": "stdout",
     "output_type": "stream",
     "text": [
      "<class 'pandas.core.frame.DataFrame'>\n",
      "RangeIndex: 1000 entries, 0 to 999\n",
      "Data columns (total 10 columns):\n",
      " #   Column              Non-Null Count  Dtype  \n",
      "---  ------              --------------  -----  \n",
      " 0   Theme               1000 non-null   object \n",
      " 1   Click Through Rate  1000 non-null   float64\n",
      " 2   Conversion Rate     1000 non-null   float64\n",
      " 3   Bounce Rate         1000 non-null   float64\n",
      " 4   Scroll_Depth        1000 non-null   float64\n",
      " 5   Age                 1000 non-null   int64  \n",
      " 6   Location            1000 non-null   object \n",
      " 7   Session_Duration    1000 non-null   int64  \n",
      " 8   Purchases           1000 non-null   object \n",
      " 9   Added_to_Cart       1000 non-null   object \n",
      "dtypes: float64(4), int64(2), object(4)\n",
      "memory usage: 78.3+ KB\n"
     ]
    }
   ],
   "source": [
    "data.info()\n",
    "\n",
    "# So, our dataset has no null values presented in each and every columns. "
   ]
  },
  {
   "cell_type": "code",
   "execution_count": null,
   "metadata": {},
   "outputs": [
    {
     "name": "stdout",
     "output_type": "stream",
     "text": [
      "             Click Through Rate  Conversion Rate  Bounce Rate  Scroll_Depth  \\\n",
      "Theme                                                                         \n",
      "Dark Theme             0.264501         0.251282     0.512115     49.926404   \n",
      "Light Theme            0.247109         0.255459     0.499035     50.735232   \n",
      "\n",
      "                   Age  Session_Duration  \n",
      "Theme                                     \n",
      "Dark Theme   41.332685        919.482490  \n",
      "Light Theme  41.734568        930.833333  \n"
     ]
    }
   ],
   "source": [
    "# First we need to find out the sample mean for each and every NUMERICAL COLUMNS. \n",
    "\n",
    "import numpy as np\n",
    "\n",
    "numerical_columns = ['Click Through Rate', 'Conversion Rate', 'Bounce Rate','Scroll_Depth','Age','Session_Duration']\n",
    "\n",
    "sample_mean = data.groupby('Theme')[numerical_columns].mean() \n",
    "\n",
    "print(sample_mean)\n",
    "\n",
    "# See the results, Mean has been calculated based on the Dark theme and Light theme individually. \n",
    "# So that we used 'Theme' near 'groupby'."
   ]
  },
  {
   "cell_type": "markdown",
   "metadata": {},
   "source": [
    "##### Based on the above result - we can find out that the Mean of Light Theme is Slightly higher than Dark Theme by all the features expecting 'Click Through Rate'. \n",
    "##### Note that - less in bounce rate would be preferable. Here 'Light Theme is lesser by value  than 'Dark Theme'. \n",
    "##### Hence here also Light theme is preffered most. \n",
    "##### From these insights, it appears that the Light Theme slightly outperforms the Dark Theme in terms of Conversion Rate, Bounce Rate, Scroll Depth, and Session Duration, while the Dark Theme leads only in the Click Through Rate. \n",
    "##### However, the differences are relatively minor across all metrics."
   ]
  },
  {
   "cell_type": "markdown",
   "metadata": {},
   "source": [
    "### Getting Started with Hypothesis Testing\n",
    "\n",
    "###### Now which Hypothesis test is best to use here in this case? Z-test or T-test? \n",
    "###### Usually Z-test is conducted when the following two conditions are satisfied. The sample size should be large (>30) & when we know the Population variance. \n",
    "###### And yes, here our data sample is 1000 (that is >30) this condition is satisfied. However we did not know the Population Variance. \n",
    "###### We do not have any information regarding Population to find out it's variance also. \n",
    "###### Hence we could not perform Z-test here in this case. What about T-test? \n",
    "\n",
    "###### For T-test, the conditions are same as Z-test but it's not neccessary to know the Population variance (that we don't have actually)\n",
    "###### And yes - we can go ahead performing T-test. \n",
    "\n",
    "###### Common use cases of T-Test:\n",
    "###### One-sample T-test: Testing if the sample mean is significantly different from a known value. \n",
    "###### Two-sample T-test: Comparing means from two independent samples.  (Here we have two independent samples - Light Theme and Dark Theme. So we going to use Two-Sample T-test here.)\n",
    "###### Paired T-test: Comparing means from paired or related samples (e.g., before-and-after scenarios)."
   ]
  },
  {
   "cell_type": "markdown",
   "metadata": {},
   "source": [
    "##### We can take out any feature to define Hypothesis. "
   ]
  },
  {
   "cell_type": "markdown",
   "metadata": {},
   "source": [
    "#### DEFINING HYPOTHESIS\n",
    "\n",
    "##### NULL HYPOTHESIS (H0): There is NO DIFFERENCE in the Conversion rate between the light theme and dark theme (being there is minor slight difference, it considered this as 'No difference')\n",
    "##### ALTERNATE HYPOTHESIS (H1): There is a DIFFERENCE in the Conversion rate between the light theme and dark theme. "
   ]
  },
  {
   "cell_type": "code",
   "execution_count": null,
   "metadata": {},
   "outputs": [
    {
     "data": {
      "text/plain": [
       "(np.float64(0.4748494462782632), np.float64(0.6349982678451778))"
      ]
     },
     "execution_count": 18,
     "metadata": {},
     "output_type": "execute_result"
    }
   ],
   "source": [
    "from scipy.stats import ttest_ind\n",
    "\n",
    "# Extracting Conversion rates for both themes:\n",
    "\n",
    "Conversion_rate_light = data[data.Theme == 'Light Theme']['Conversion Rate']\n",
    "Conversion_rate_dark = data[data.Theme == 'Dark Theme']['Conversion Rate']\n",
    "\n",
    "# Performing Two sample T-test:\n",
    "\n",
    "T_stat, p_value = ttest_ind(Conversion_rate_light, Conversion_rate_dark, equal_var = False)\n",
    "T_stat, p_value \n",
    "\n",
    "# Is it neccessay to mention 'T-stat' here, I think it doesn't made any effect here. \n",
    "# The reason we mentioned 'T-stat' here is just to KNOW THE P-VALUE FINDINGS IS FOR WHAT TECHNIQUE..!\n"
   ]
  },
  {
   "cell_type": "code",
   "execution_count": 21,
   "metadata": {},
   "outputs": [],
   "source": [
    "# P-value should be lesser than Significance level (alpha = 0.05) to reject the Null Hypothesis. \n",
    "# Below conclusion says that hence P-value is higher than alpha, we could not reject Null Hypothesis. Hence it has been ACCEPTED. \n",
    "# Meaning that there is NO SIGNIFICANT DIFFERENCE between the themes. "
   ]
  },
  {
   "cell_type": "markdown",
   "metadata": {},
   "source": [
    "#### CONCLUSION:\n",
    "\n",
    "##### The result of the two-sample t-test gives a p-value of approximately 0.635. \n",
    "##### Since this p-value is much greater than our significance level of 0.05, we do not have enough evidence to reject the null hypothesis. \n",
    "##### Therefore, we conclude that there is no statistically significant difference in 'CONVERSION RATES' between the Light Theme and Dark Theme based on the data provided."
   ]
  },
  {
   "cell_type": "code",
   "execution_count": 20,
   "metadata": {},
   "outputs": [
    {
     "data": {
      "text/plain": [
       "(np.float64(-1.9781708664172253), np.float64(0.04818435371010704))"
      ]
     },
     "execution_count": 20,
     "metadata": {},
     "output_type": "execute_result"
    }
   ],
   "source": [
    "# Now I want to do the testing with the feature 'Click Through Rate'.\n",
    "\n",
    "# Extract 'Click through rate' for both light and dark themes.\n",
    "\n",
    "Click_through_rate_light = data[data.Theme == 'Light Theme']['Click Through Rate']\n",
    "Click_through_rate_dark = data[data.Theme == 'Dark Theme']['Click Through Rate']\n",
    "\n",
    "t_stat1, p_value1 = ttest_ind(Click_through_rate_light, Click_through_rate_dark, equal_var = False)\n",
    "t_stat1, p_value1\n"
   ]
  },
  {
   "cell_type": "code",
   "execution_count": null,
   "metadata": {},
   "outputs": [],
   "source": [
    "# NOTE TO BE REMEMBERED:\n",
    "\n",
    "# As we saw before, the sample mean of all the features (EXCEPT CLICK THROUGH RATES) are higher in LIGHT THEME when compared to DARK THEME. \n",
    "# IMPORTANT: As per the defining hypothesis and the statement right above - the hypothesis test results  will be the SAME  when put all the features into the test BUT DIFFERENT ONLY FOR 'CLICK THROUGH RATES'. \n",
    "\n",
    "# As you saw both of these conclusions, We ACCEPTED NULL HYPOTHESIS IN CONVERSION RATES while We REJECTED THE NULL HYPOTHEIS IN CLICK THOROUGH RATES.\n",
    "# So, it's clear that IT SHOULD BE ACCEPTED NULL HYPOTHESIS IN ALL OTHER FEATURES ALSO (EXCEPT CLICK THROUGH RATE WHICH WAS REJECTED) \n",
    "\n",
    "# Below conclusion meaning that we can REJECT THE NULL HYPOTHESIS. \n",
    "# Means there is A SIGNIFICANT DIFFERENCE between the themes. "
   ]
  },
  {
   "cell_type": "markdown",
   "metadata": {},
   "source": [
    "#### CONCLUSION: \n",
    "\n",
    "##### Here you can see that P-value (0.048) is lesser than alpha 0.05 - Hene we REJECT the NULL HYPOTHESIS. \n",
    "##### Therefore, we conclude that there is statistically significant difference in 'CLICK THROUGH RATES' between the Light Theme and Dark Theme based on the data provided. \n"
   ]
  },
  {
   "cell_type": "code",
   "execution_count": 26,
   "metadata": {},
   "outputs": [
    {
     "data": {
      "text/plain": [
       "(np.float64(-1.2018883310494073), np.float64(0.229692077505148))"
      ]
     },
     "execution_count": 26,
     "metadata": {},
     "output_type": "execute_result"
    }
   ],
   "source": [
    "# Let's check with the other two features - Bounce rate & Scroll depth. \n",
    "\n",
    "# Extract Bounce rate from both light and dark themes:\n",
    "\n",
    "Bounce_rate_light = data[data.Theme == 'Light Theme']['Bounce Rate']\n",
    "Bounce_rate_dark = data[data.Theme == 'Dark Theme']['Bounce Rate']\n",
    "\n",
    "t_stat2, p_value2 = ttest_ind(Bounce_rate_light, Bounce_rate_dark, equal_var = False)\n",
    "t_stat2,p_value2\n"
   ]
  },
  {
   "cell_type": "code",
   "execution_count": 28,
   "metadata": {},
   "outputs": [
    {
     "data": {
      "text/plain": [
       "(np.float64(0.7562277864140986), np.float64(0.4496919249484911))"
      ]
     },
     "execution_count": 28,
     "metadata": {},
     "output_type": "execute_result"
    }
   ],
   "source": [
    "Scroll_Depth_light = data[data.Theme == 'Light Theme']['Scroll_Depth']\n",
    "Scroll_Depth_dark = data[data.Theme == 'Dark Theme']['Scroll_Depth']\n",
    "\n",
    "t_stat3, p_value3 = ttest_ind(Scroll_Depth_light, Scroll_Depth_dark, equal_var = False)\n",
    "t_stat3,p_value3"
   ]
  },
  {
   "cell_type": "code",
   "execution_count": 32,
   "metadata": {},
   "outputs": [
    {
     "data": {
      "text/html": [
       "<div>\n",
       "<style scoped>\n",
       "    .dataframe tbody tr th:only-of-type {\n",
       "        vertical-align: middle;\n",
       "    }\n",
       "\n",
       "    .dataframe tbody tr th {\n",
       "        vertical-align: top;\n",
       "    }\n",
       "\n",
       "    .dataframe thead th {\n",
       "        text-align: right;\n",
       "    }\n",
       "</style>\n",
       "<table border=\"1\" class=\"dataframe\">\n",
       "  <thead>\n",
       "    <tr style=\"text-align: right;\">\n",
       "      <th></th>\n",
       "      <th>Metric</th>\n",
       "      <th>T_Statistic</th>\n",
       "      <th>P_values</th>\n",
       "    </tr>\n",
       "  </thead>\n",
       "  <tbody>\n",
       "    <tr>\n",
       "      <th>0</th>\n",
       "      <td>Click Through Rate</td>\n",
       "      <td>0.474849</td>\n",
       "      <td>0.634998</td>\n",
       "    </tr>\n",
       "    <tr>\n",
       "      <th>1</th>\n",
       "      <td>Conversion Rate</td>\n",
       "      <td>-1.978171</td>\n",
       "      <td>0.048184</td>\n",
       "    </tr>\n",
       "    <tr>\n",
       "      <th>2</th>\n",
       "      <td>Bounce Rate</td>\n",
       "      <td>-1.201888</td>\n",
       "      <td>0.229692</td>\n",
       "    </tr>\n",
       "    <tr>\n",
       "      <th>3</th>\n",
       "      <td>Scroll_Depth</td>\n",
       "      <td>0.756228</td>\n",
       "      <td>0.449692</td>\n",
       "    </tr>\n",
       "  </tbody>\n",
       "</table>\n",
       "</div>"
      ],
      "text/plain": [
       "               Metric  T_Statistic  P_values\n",
       "0  Click Through Rate     0.474849  0.634998\n",
       "1     Conversion Rate    -1.978171  0.048184\n",
       "2         Bounce Rate    -1.201888  0.229692\n",
       "3        Scroll_Depth     0.756228  0.449692"
      ]
     },
     "execution_count": 32,
     "metadata": {},
     "output_type": "execute_result"
    }
   ],
   "source": [
    "# CREATING A TABLE FOR COMPARISON:\n",
    "\n",
    "comparison_table = pd.DataFrame(\n",
    "    {'Metric' :['Click Through Rate', 'Conversion Rate', 'Bounce Rate', 'Scroll_Depth'],\n",
    "'T_Statistic' :[T_stat,t_stat1,t_stat2,t_stat3],\n",
    "'P_values' : [p_value,p_value1,p_value2,p_value3]}\n",
    ")\n",
    "\n",
    "comparison_table\n"
   ]
  },
  {
   "cell_type": "markdown",
   "metadata": {},
   "source": [
    "### CONCLUSION:\n",
    "\n",
    "#### Here P_values are lesser in Conversion Rate, Bounce Rate and Scroll_Depth than significance level (alpha - 0.05)\n",
    "#### Meaning that we have to REJECT THE NULL HYPOTHESIS concluding that there is A SIGNIFICANT DIFFERENCE between the both themes. \n",
    "\n",
    "#### Hence P-value is higher than significance level (alpha - 0.05) in 'Click through rates' - We have to ACCEPT THE NULL HYPOTHESIS. \n",
    "#### Meaning that there is NO SIGNIFICANT DIFFERENCE between the both themes. \n",
    "\n",
    "#### In summary, For other key performance indicators like Conversion Rate, Bounce Rate, and Scroll Depth, the choice between a Light Theme and a Dark Theme does not significantly affect user behaviour according to the data provided.\n",
    "\n",
    "\n"
   ]
  }
 ],
 "metadata": {
  "kernelspec": {
   "display_name": "Python 3",
   "language": "python",
   "name": "python3"
  },
  "language_info": {
   "codemirror_mode": {
    "name": "ipython",
    "version": 3
   },
   "file_extension": ".py",
   "mimetype": "text/x-python",
   "name": "python",
   "nbconvert_exporter": "python",
   "pygments_lexer": "ipython3",
   "version": "3.12.7"
  }
 },
 "nbformat": 4,
 "nbformat_minor": 2
}
